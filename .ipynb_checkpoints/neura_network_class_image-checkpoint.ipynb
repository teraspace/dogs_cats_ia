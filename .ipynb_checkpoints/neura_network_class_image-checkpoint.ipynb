{
 "cells": [
  {
   "cell_type": "code",
   "execution_count": 26,
   "metadata": {},
   "outputs": [],
   "source": [
    "#Compuerta analogica.\n",
    "#Version de neuronas vectorizadas con numpy\n",
    "import sys\n",
    "import copy\n",
    "import random\n",
    "import numpy as np \n",
    "import math as math\n",
    "import utils\n",
    "import time\n",
    "from neural_network import NeuralNetwork\n",
    "from os import listdir\n",
    "from PIL import Image as PImage\n",
    "from PIL import ImageOps as ImageOps\n",
    "import glob\n",
    "import os"
   ]
  },
  {
   "cell_type": "code",
   "execution_count": 27,
   "metadata": {},
   "outputs": [],
   "source": [
    "def parse_file(file):\n",
    "    print(file)\n",
    "    img = PImage.open(file)\n",
    "    size= (64, 64)\n",
    "    img.thumbnail(size)\n",
    "    img = ImageOps.fit(img,size , PImage.ANTIALIAS)\n",
    "    npImage=np.array(img, np.uint16)\n",
    "    img_size = npImage.shape\n",
    "    return npImage"
   ]
  },
  {
   "cell_type": "code",
   "execution_count": 28,
   "metadata": {},
   "outputs": [],
   "source": [
    "def load_images_from_folder(folder, quantity):\n",
    "    images = []\n",
    "    for filename in os.listdir(folder)[:quantity]:        \n",
    "        images.append(parse_file(filename))\n",
    "    return images"
   ]
  },
  {
   "cell_type": "code",
   "execution_count": 29,
   "metadata": {},
   "outputs": [],
   "source": [
    "windows_path = 'C:/Users/carlos/OneDrive/machine_learning/nn/'"
   ]
  },
  {
   "cell_type": "code",
   "execution_count": 30,
   "metadata": {
    "scrolled": true
   },
   "outputs": [
    {
     "ename": "OSError",
     "evalue": "[WinError 123] El nombre de archivo, el nombre de directorio o la sintaxis de la etiqueta del volumen no son correctos: 'C:/Users/carlos/OneDrive/machine_learning/nn/cat/*.jpg'",
     "output_type": "error",
     "traceback": [
      "\u001b[1;31m---------------------------------------------------------------------------\u001b[0m",
      "\u001b[1;31mOSError\u001b[0m                                   Traceback (most recent call last)",
      "\u001b[1;32m<ipython-input-30-2e5fd47ff6a3>\u001b[0m in \u001b[0;36m<module>\u001b[1;34m()\u001b[0m\n\u001b[1;32m----> 1\u001b[1;33m \u001b[0mdataset_cats\u001b[0m \u001b[1;33m=\u001b[0m \u001b[0mload_images_from_folder\u001b[0m\u001b[1;33m(\u001b[0m\u001b[0mwindows_path\u001b[0m\u001b[1;33m+\u001b[0m\u001b[1;34m'cat/*.jpg'\u001b[0m\u001b[1;33m,\u001b[0m\u001b[1;36m200\u001b[0m\u001b[1;33m)\u001b[0m\u001b[1;33m\u001b[0m\u001b[0m\n\u001b[0m\u001b[0;32m      2\u001b[0m \u001b[0mtestset_cats\u001b[0m \u001b[1;33m=\u001b[0m \u001b[0mnp\u001b[0m\u001b[1;33m.\u001b[0m\u001b[0marray\u001b[0m\u001b[1;33m(\u001b[0m\u001b[0mdataset_cats\u001b[0m\u001b[1;33m)\u001b[0m\u001b[1;33m[\u001b[0m\u001b[1;36m101\u001b[0m\u001b[1;33m:\u001b[0m\u001b[1;36m200\u001b[0m\u001b[1;33m]\u001b[0m\u001b[1;33m\u001b[0m\u001b[0m\n\u001b[0;32m      3\u001b[0m \u001b[0mdataset_cats\u001b[0m \u001b[1;33m=\u001b[0m \u001b[0mnp\u001b[0m\u001b[1;33m.\u001b[0m\u001b[0marray\u001b[0m\u001b[1;33m(\u001b[0m\u001b[0mdataset_cats\u001b[0m\u001b[1;33m)\u001b[0m\u001b[1;33m[\u001b[0m\u001b[1;33m:\u001b[0m\u001b[1;36m100\u001b[0m\u001b[1;33m]\u001b[0m\u001b[1;33m\u001b[0m\u001b[0m\n\u001b[0;32m      4\u001b[0m \u001b[1;33m\u001b[0m\u001b[0m\n\u001b[0;32m      5\u001b[0m \u001b[0mprint\u001b[0m\u001b[1;33m(\u001b[0m\u001b[0mdataset_cats\u001b[0m\u001b[1;33m[\u001b[0m\u001b[1;36m0\u001b[0m\u001b[1;33m]\u001b[0m\u001b[1;33m.\u001b[0m\u001b[0mshape\u001b[0m\u001b[1;33m)\u001b[0m\u001b[1;33m\u001b[0m\u001b[0m\n",
      "\u001b[1;32m<ipython-input-28-8b74a610a73c>\u001b[0m in \u001b[0;36mload_images_from_folder\u001b[1;34m(folder, quantity)\u001b[0m\n\u001b[0;32m      1\u001b[0m \u001b[1;32mdef\u001b[0m \u001b[0mload_images_from_folder\u001b[0m\u001b[1;33m(\u001b[0m\u001b[0mfolder\u001b[0m\u001b[1;33m,\u001b[0m \u001b[0mquantity\u001b[0m\u001b[1;33m)\u001b[0m\u001b[1;33m:\u001b[0m\u001b[1;33m\u001b[0m\u001b[0m\n\u001b[0;32m      2\u001b[0m     \u001b[0mimages\u001b[0m \u001b[1;33m=\u001b[0m \u001b[1;33m[\u001b[0m\u001b[1;33m]\u001b[0m\u001b[1;33m\u001b[0m\u001b[0m\n\u001b[1;32m----> 3\u001b[1;33m     \u001b[1;32mfor\u001b[0m \u001b[0mfilename\u001b[0m \u001b[1;32min\u001b[0m \u001b[0mos\u001b[0m\u001b[1;33m.\u001b[0m\u001b[0mlistdir\u001b[0m\u001b[1;33m(\u001b[0m\u001b[0mfolder\u001b[0m\u001b[1;33m)\u001b[0m\u001b[1;33m[\u001b[0m\u001b[1;33m:\u001b[0m\u001b[0mquantity\u001b[0m\u001b[1;33m]\u001b[0m\u001b[1;33m:\u001b[0m\u001b[1;33m\u001b[0m\u001b[0m\n\u001b[0m\u001b[0;32m      4\u001b[0m         \u001b[0mimages\u001b[0m\u001b[1;33m.\u001b[0m\u001b[0mappend\u001b[0m\u001b[1;33m(\u001b[0m\u001b[0mparse_file\u001b[0m\u001b[1;33m(\u001b[0m\u001b[0mfilename\u001b[0m\u001b[1;33m)\u001b[0m\u001b[1;33m)\u001b[0m\u001b[1;33m\u001b[0m\u001b[0m\n\u001b[0;32m      5\u001b[0m     \u001b[1;32mreturn\u001b[0m \u001b[0mimages\u001b[0m\u001b[1;33m\u001b[0m\u001b[0m\n",
      "\u001b[1;31mOSError\u001b[0m: [WinError 123] El nombre de archivo, el nombre de directorio o la sintaxis de la etiqueta del volumen no son correctos: 'C:/Users/carlos/OneDrive/machine_learning/nn/cat/*.jpg'"
     ]
    }
   ],
   "source": [
    "dataset_cats = load_images_from_folder(windows_path+'cat/',200)\n",
    "testset_cats = np.array(dataset_cats)[101:200]\n",
    "dataset_cats = np.array(dataset_cats)[:100]\n",
    "\n",
    "print(dataset_cats[0].shape)"
   ]
  },
  {
   "cell_type": "code",
   "execution_count": 31,
   "metadata": {},
   "outputs": [
    {
     "name": "stdout",
     "output_type": "stream",
     "text": [
      ".ipynb_checkpoints\n"
     ]
    },
    {
     "ename": "FileNotFoundError",
     "evalue": "[Errno 2] No such file or directory: '.ipynb_checkpoints'",
     "output_type": "error",
     "traceback": [
      "\u001b[1;31m---------------------------------------------------------------------------\u001b[0m",
      "\u001b[1;31mFileNotFoundError\u001b[0m                         Traceback (most recent call last)",
      "\u001b[1;32m<ipython-input-31-b85c8f0b3156>\u001b[0m in \u001b[0;36m<module>\u001b[1;34m()\u001b[0m\n\u001b[1;32m----> 1\u001b[1;33m \u001b[0mdataset_dogs\u001b[0m \u001b[1;33m=\u001b[0m \u001b[0mload_images_from_folder\u001b[0m\u001b[1;33m(\u001b[0m\u001b[0mwindows_path\u001b[0m\u001b[1;33m+\u001b[0m\u001b[1;34m'dog/'\u001b[0m\u001b[1;33m,\u001b[0m\u001b[1;36m200\u001b[0m\u001b[1;33m)\u001b[0m\u001b[1;33m\u001b[0m\u001b[0m\n\u001b[0m\u001b[0;32m      2\u001b[0m \u001b[0mtestset_dogs\u001b[0m \u001b[1;33m=\u001b[0m \u001b[0mnp\u001b[0m\u001b[1;33m.\u001b[0m\u001b[0marray\u001b[0m\u001b[1;33m(\u001b[0m\u001b[0mdataset_dogs\u001b[0m\u001b[1;33m)\u001b[0m\u001b[1;33m[\u001b[0m\u001b[1;36m101\u001b[0m\u001b[1;33m:\u001b[0m\u001b[1;36m200\u001b[0m\u001b[1;33m]\u001b[0m\u001b[1;33m\u001b[0m\u001b[0m\n\u001b[0;32m      3\u001b[0m \u001b[0mdataset_dogs\u001b[0m \u001b[1;33m=\u001b[0m \u001b[0mnp\u001b[0m\u001b[1;33m.\u001b[0m\u001b[0marray\u001b[0m\u001b[1;33m(\u001b[0m\u001b[0mdataset_dogs\u001b[0m\u001b[1;33m)\u001b[0m\u001b[1;33m[\u001b[0m\u001b[1;33m:\u001b[0m\u001b[1;36m100\u001b[0m\u001b[1;33m]\u001b[0m\u001b[1;33m\u001b[0m\u001b[0m\n\u001b[0;32m      4\u001b[0m \u001b[1;33m\u001b[0m\u001b[0m\n\u001b[0;32m      5\u001b[0m \u001b[0mprint\u001b[0m\u001b[1;33m(\u001b[0m\u001b[0mdataset_dogs\u001b[0m\u001b[1;33m.\u001b[0m\u001b[0mshape\u001b[0m\u001b[1;33m)\u001b[0m\u001b[1;33m\u001b[0m\u001b[0m\n",
      "\u001b[1;32m<ipython-input-28-8b74a610a73c>\u001b[0m in \u001b[0;36mload_images_from_folder\u001b[1;34m(folder, quantity)\u001b[0m\n\u001b[0;32m      2\u001b[0m     \u001b[0mimages\u001b[0m \u001b[1;33m=\u001b[0m \u001b[1;33m[\u001b[0m\u001b[1;33m]\u001b[0m\u001b[1;33m\u001b[0m\u001b[0m\n\u001b[0;32m      3\u001b[0m     \u001b[1;32mfor\u001b[0m \u001b[0mfilename\u001b[0m \u001b[1;32min\u001b[0m \u001b[0mos\u001b[0m\u001b[1;33m.\u001b[0m\u001b[0mlistdir\u001b[0m\u001b[1;33m(\u001b[0m\u001b[0mfolder\u001b[0m\u001b[1;33m)\u001b[0m\u001b[1;33m[\u001b[0m\u001b[1;33m:\u001b[0m\u001b[0mquantity\u001b[0m\u001b[1;33m]\u001b[0m\u001b[1;33m:\u001b[0m\u001b[1;33m\u001b[0m\u001b[0m\n\u001b[1;32m----> 4\u001b[1;33m         \u001b[0mimages\u001b[0m\u001b[1;33m.\u001b[0m\u001b[0mappend\u001b[0m\u001b[1;33m(\u001b[0m\u001b[0mparse_file\u001b[0m\u001b[1;33m(\u001b[0m\u001b[0mfilename\u001b[0m\u001b[1;33m)\u001b[0m\u001b[1;33m)\u001b[0m\u001b[1;33m\u001b[0m\u001b[0m\n\u001b[0m\u001b[0;32m      5\u001b[0m     \u001b[1;32mreturn\u001b[0m \u001b[0mimages\u001b[0m\u001b[1;33m\u001b[0m\u001b[0m\n",
      "\u001b[1;32m<ipython-input-27-6eb0a5253492>\u001b[0m in \u001b[0;36mparse_file\u001b[1;34m(file)\u001b[0m\n\u001b[0;32m      1\u001b[0m \u001b[1;32mdef\u001b[0m \u001b[0mparse_file\u001b[0m\u001b[1;33m(\u001b[0m\u001b[0mfile\u001b[0m\u001b[1;33m)\u001b[0m\u001b[1;33m:\u001b[0m\u001b[1;33m\u001b[0m\u001b[0m\n\u001b[0;32m      2\u001b[0m     \u001b[0mprint\u001b[0m\u001b[1;33m(\u001b[0m\u001b[0mfile\u001b[0m\u001b[1;33m)\u001b[0m\u001b[1;33m\u001b[0m\u001b[0m\n\u001b[1;32m----> 3\u001b[1;33m     \u001b[0mimg\u001b[0m \u001b[1;33m=\u001b[0m \u001b[0mPImage\u001b[0m\u001b[1;33m.\u001b[0m\u001b[0mopen\u001b[0m\u001b[1;33m(\u001b[0m\u001b[0mfile\u001b[0m\u001b[1;33m)\u001b[0m\u001b[1;33m\u001b[0m\u001b[0m\n\u001b[0m\u001b[0;32m      4\u001b[0m     \u001b[0msize\u001b[0m\u001b[1;33m=\u001b[0m \u001b[1;33m(\u001b[0m\u001b[1;36m64\u001b[0m\u001b[1;33m,\u001b[0m \u001b[1;36m64\u001b[0m\u001b[1;33m)\u001b[0m\u001b[1;33m\u001b[0m\u001b[0m\n\u001b[0;32m      5\u001b[0m     \u001b[0mimg\u001b[0m\u001b[1;33m.\u001b[0m\u001b[0mthumbnail\u001b[0m\u001b[1;33m(\u001b[0m\u001b[0msize\u001b[0m\u001b[1;33m)\u001b[0m\u001b[1;33m\u001b[0m\u001b[0m\n",
      "\u001b[1;32mC:\\IntelPython3\\lib\\site-packages\\PIL\\Image.py\u001b[0m in \u001b[0;36mopen\u001b[1;34m(fp, mode)\u001b[0m\n\u001b[0;32m   2578\u001b[0m \u001b[1;33m\u001b[0m\u001b[0m\n\u001b[0;32m   2579\u001b[0m     \u001b[1;32mif\u001b[0m \u001b[0mfilename\u001b[0m\u001b[1;33m:\u001b[0m\u001b[1;33m\u001b[0m\u001b[0m\n\u001b[1;32m-> 2580\u001b[1;33m         \u001b[0mfp\u001b[0m \u001b[1;33m=\u001b[0m \u001b[0mbuiltins\u001b[0m\u001b[1;33m.\u001b[0m\u001b[0mopen\u001b[0m\u001b[1;33m(\u001b[0m\u001b[0mfilename\u001b[0m\u001b[1;33m,\u001b[0m \u001b[1;34m\"rb\"\u001b[0m\u001b[1;33m)\u001b[0m\u001b[1;33m\u001b[0m\u001b[0m\n\u001b[0m\u001b[0;32m   2581\u001b[0m         \u001b[0mexclusive_fp\u001b[0m \u001b[1;33m=\u001b[0m \u001b[1;32mTrue\u001b[0m\u001b[1;33m\u001b[0m\u001b[0m\n\u001b[0;32m   2582\u001b[0m \u001b[1;33m\u001b[0m\u001b[0m\n",
      "\u001b[1;31mFileNotFoundError\u001b[0m: [Errno 2] No such file or directory: '.ipynb_checkpoints'"
     ]
    }
   ],
   "source": [
    "dataset_dogs = load_images_from_folder(windows_path+'dog/',200)\n",
    "testset_dogs = np.array(dataset_dogs)[101:200]\n",
    "dataset_dogs = np.array(dataset_dogs)[:100]\n",
    "\n",
    "print(dataset_dogs.shape)"
   ]
  },
  {
   "cell_type": "code",
   "execution_count": null,
   "metadata": {},
   "outputs": [],
   "source": []
  },
  {
   "cell_type": "code",
   "execution_count": null,
   "metadata": {},
   "outputs": [],
   "source": [
    "samples_size = dataset_dogs.shape[0]\n",
    "train_x_cats = (dataset_cats.reshape(samples_size, -1)) /255.\n",
    "train_x_dogs = (dataset_dogs.reshape(samples_size, -1)) /255.\n",
    "dataset_full = (np.concatenate((train_x_cats, train_x_dogs)))\n",
    "train_x_full = dataset_full\n",
    "#print(dataset_cats[0][0])\n",
    "print(train_x_cats[0])\n",
    "\n",
    "print(train_x_full.shape)"
   ]
  },
  {
   "cell_type": "code",
   "execution_count": null,
   "metadata": {},
   "outputs": [],
   "source": [
    "samples_size = testset_dogs.shape[0]\n",
    "test_x_cats = (testset_cats.reshape(samples_size, -1)) /255.\n",
    "test_x_dogs = (testset_dogs.reshape(samples_size, -1)) /255.\n",
    "testset_full = (np.concatenate((test_x_cats, test_x_dogs)))\n",
    "test_x_full = testset_full\n",
    "#print(dataset_cats[0][0])\n",
    "print(test_x_cats[0])\n",
    "\n",
    "print(test_x_full.shape)"
   ]
  },
  {
   "cell_type": "code",
   "execution_count": null,
   "metadata": {},
   "outputs": [],
   "source": [
    "X = train_x_full\n",
    "\n",
    "Y_cats = np.ones((1,train_x_cats.shape[0]))\n",
    "Y_dogs = np.zeros((1,train_x_cats.shape[0]))\n",
    "Y_full = np.array([np.concatenate((Y_cats[0], Y_dogs[0]))]).T\n",
    "\n",
    "nn = NeuralNetwork(X, Y_full, 32, 'tanh')\n",
    "parameters = nn.get_parameters()\n",
    "print(parameters)\n",
    "Y = Y_full\n",
    "\n",
    "#print(Y_full.shape)"
   ]
  },
  {
   "cell_type": "code",
   "execution_count": null,
   "metadata": {},
   "outputs": [],
   "source": [
    "#test demo binary\n",
    "X = np.array([[0, 0], [0, 1], [1, 0], [1, 1]])\n",
    "Y = np.array([[1], [0.1], [0.5], [0]])\n",
    "nn = NeuralNetwork(X, Y, 8, 'sigmoid')\n",
    "parameters = nn.get_parameters()\n",
    "print(parameters)\n",
    "print(X.shape) #(4, 2)\n",
    "print(Y.shape) #(4, 1)"
   ]
  },
  {
   "cell_type": "code",
   "execution_count": null,
   "metadata": {
    "scrolled": true
   },
   "outputs": [],
   "source": [
    "print(X.shape) #(4, 2)\n",
    "start_time = time.time()\n",
    "info = nn.trainer(10000, 0.01, X.T, Y.T, log=False)\n",
    "elapsed_time = time.time() - start_time\n",
    "print('elapsed_time: ', elapsed_time)"
   ]
  },
  {
   "cell_type": "code",
   "execution_count": null,
   "metadata": {},
   "outputs": [],
   "source": [
    "Xt_true = train_x_cats\n",
    "id_cat = 99\n",
    "print(Xt_true[id_cat:id_cat+1].shape)\n",
    "print(Xt_true[id_cat:id_cat+1])\n",
    "t = nn.test(Xt_true[id_cat:id_cat+1].T)\n",
    "print('t: ', t)\n",
    "accy =  Y[id_cat:id_cat+1] /  t[0] \n",
    "print('accy: ',(accy))\n"
   ]
  },
  {
   "cell_type": "code",
   "execution_count": null,
   "metadata": {},
   "outputs": [],
   "source": [
    "Xt_false = train_x_dogs\n",
    "id_dog = 99\n",
    "print(Xt_false[id_dog:id_dog+1].shape)\n",
    "print(Xt_false[id_dog:id_dog+1])\n",
    "t = nn.test(Xt_false[id_dog:id_dog+1].T)\n",
    "print('t: ', t)\n",
    "accy =  Y[id_dog:id_dog+1] /  t[0] \n",
    "print('accy: ',(accy))"
   ]
  },
  {
   "cell_type": "code",
   "execution_count": null,
   "metadata": {},
   "outputs": [],
   "source": [
    "print(X[0])\n",
    "\n",
    "print(Xt_false[0])"
   ]
  },
  {
   "cell_type": "code",
   "execution_count": null,
   "metadata": {},
   "outputs": [],
   "source": [
    "#Prueba data de entrenamiento\n",
    "cats_count = 0\n",
    "dogs_count = 0\n",
    "for xx in range(0,X.shape[0]):\n",
    "    t = nn.test(X[xx:xx+1].T)\n",
    "    #print(t[0][0], xx)\n",
    "    y_h = t[0][0]\n",
    "    if(y_h>0.8):\n",
    "        cats_count = cats_count +1\n",
    "    else:\n",
    "        dogs_count = dogs_count +1\n",
    "\n",
    "print('cats detected: ', cats_count)\n",
    "print('dogs detected: ', dogs_count)"
   ]
  },
  {
   "cell_type": "code",
   "execution_count": null,
   "metadata": {},
   "outputs": [],
   "source": [
    "#Prueba data de validacin \n",
    "cats_count = 0\n",
    "dogs_count = 0\n",
    "X_test = test_x_full\n",
    "for xx in range(0,X_test.shape[0]):\n",
    "    t = nn.test(X_test[xx:xx+1].T)\n",
    "    #print(t[0][0], xx)\n",
    "    y_h = t[0][0]\n",
    "    if(y_h>0.8):\n",
    "        cats_count = cats_count +1\n",
    "    else:\n",
    "        dogs_count = dogs_count +1\n",
    "\n",
    "print('cats validateds: ', cats_count)\n",
    "print('dogs validateds: ', dogs_count)"
   ]
  },
  {
   "cell_type": "code",
   "execution_count": null,
   "metadata": {},
   "outputs": [],
   "source": [
    "Xt = np.random.randn(1,65536)\n",
    "print(Xt.shape)\n",
    "t = nn.test(Xt.T)\n",
    "print('t: ', t)\n",
    "accy =  np.sum(Y[:1]) / (np.sum(t) )\n",
    "print('accy: ',(accy))"
   ]
  },
  {
   "cell_type": "code",
   "execution_count": null,
   "metadata": {},
   "outputs": [],
   "source": [
    "#test demo binary\n",
    "print(X.shape)\n",
    "print(X[:1])\n",
    "t = nn.test(X.T)\n",
    "print('t: ', t)\n",
    "accy =  np.sum(Y) / (np.sum(t) )\n",
    "print('accy: ',(accy))"
   ]
  },
  {
   "cell_type": "code",
   "execution_count": null,
   "metadata": {},
   "outputs": [],
   "source": [
    "image_test = load_images_from_folder(windows_path+'tests/',1)\n",
    "testset_user = np.array(image_test)\n",
    "samples_size = testset_user.shape[0]\n",
    "test_flatten = (testset_user.reshape(samples_size, -1)) /255.\n",
    "\n",
    "\n",
    "t = nn.test(test_flatten.T)\n",
    "print('t: ', t)\n"
   ]
  }
 ],
 "metadata": {
  "kernelspec": {
   "display_name": "Python 3",
   "language": "python",
   "name": "python3"
  },
  "language_info": {
   "codemirror_mode": {
    "name": "ipython",
    "version": 3
   },
   "file_extension": ".py",
   "mimetype": "text/x-python",
   "name": "python",
   "nbconvert_exporter": "python",
   "pygments_lexer": "ipython3",
   "version": "3.6.3"
  }
 },
 "nbformat": 4,
 "nbformat_minor": 2
}

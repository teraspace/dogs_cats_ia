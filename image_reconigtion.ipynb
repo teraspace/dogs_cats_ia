{
 "cells": [
  {
   "cell_type": "code",
   "execution_count": 1,
   "metadata": {},
   "outputs": [],
   "source": [
    "#Compuerta analogica.\n",
    "#Version de neuronas vectorizadas con numpy\n",
    "import sys\n",
    "import copy\n",
    "import random\n",
    "import numpy as np \n",
    "import math as math\n",
    "import utils\n",
    "import time\n",
    "from neural_network import NeuralNetwork\n",
    "from os import listdir\n",
    "from PIL import Image as PImage\n",
    "from PIL import ImageOps as ImageOps\n",
    "import glob\n",
    "import os"
   ]
  },
  {
   "cell_type": "code",
   "execution_count": 2,
   "metadata": {},
   "outputs": [],
   "source": [
    "def parse_file(file):\n",
    " \n",
    "    img = PImage.open(file)\n",
    "    size= (64, 64)\n",
    "    img.thumbnail(size)\n",
    "    img = ImageOps.fit(img,size , PImage.ANTIALIAS)\n",
    "    npImage=np.array(img, np.uint16)\n",
    "    img_size = npImage.shape\n",
    "    return npImage"
   ]
  },
  {
   "cell_type": "code",
   "execution_count": 3,
   "metadata": {},
   "outputs": [],
   "source": [
    "def load_images_from_folder(folder, quantity):\n",
    "    images = []\n",
    "    for filename in os.listdir(folder)[:quantity]:        \n",
    "        images.append(parse_file(folder+filename))\n",
    "    return images"
   ]
  },
  {
   "cell_type": "code",
   "execution_count": 4,
   "metadata": {},
   "outputs": [],
   "source": [
    "windows_path = 'C:/Users/carlos/OneDrive/machine_learning/nn/'"
   ]
  },
  {
   "cell_type": "code",
   "execution_count": 5,
   "metadata": {
    "scrolled": true
   },
   "outputs": [
    {
     "name": "stdout",
     "output_type": "stream",
     "text": [
      "(64, 64, 3)\n"
     ]
    }
   ],
   "source": [
    "dataset_cats = load_images_from_folder(windows_path+'cat/',200)\n",
    "testset_cats = np.array(dataset_cats)[101:200]\n",
    "dataset_cats = np.array(dataset_cats)[:100]\n",
    "\n",
    "print(dataset_cats[0].shape)"
   ]
  },
  {
   "cell_type": "code",
   "execution_count": 6,
   "metadata": {},
   "outputs": [
    {
     "name": "stdout",
     "output_type": "stream",
     "text": [
      "(100, 64, 64, 3)\n"
     ]
    }
   ],
   "source": [
    "dataset_dogs = load_images_from_folder(windows_path+'dog/',200)\n",
    "testset_dogs = np.array(dataset_dogs)[101:200]\n",
    "dataset_dogs = np.array(dataset_dogs)[:100]\n",
    "\n",
    "print(dataset_dogs.shape)"
   ]
  },
  {
   "cell_type": "code",
   "execution_count": 7,
   "metadata": {},
   "outputs": [
    {
     "name": "stdout",
     "output_type": "stream",
     "text": [
      "[0.95686275 0.78823529 0.47843137 ... 0.03137255 0.03137255 0.00392157]\n",
      "(200, 12288)\n"
     ]
    }
   ],
   "source": [
    "samples_size = dataset_dogs.shape[0]\n",
    "train_x_cats = (dataset_cats.reshape(samples_size, -1)) /255.\n",
    "train_x_dogs = (dataset_dogs.reshape(samples_size, -1)) /255.\n",
    "dataset_full = (np.concatenate((train_x_cats, train_x_dogs)))\n",
    "train_x_full = dataset_full\n",
    "#print(dataset_cats[0][0])\n",
    "print(train_x_cats[0])\n",
    "\n",
    "print(train_x_full.shape)"
   ]
  },
  {
   "cell_type": "code",
   "execution_count": 8,
   "metadata": {},
   "outputs": [
    {
     "name": "stdout",
     "output_type": "stream",
     "text": [
      "[0.42352941 0.38431373 0.34509804 ... 0.71372549 0.6745098  0.63921569]\n",
      "(198, 12288)\n"
     ]
    }
   ],
   "source": [
    "samples_size = testset_dogs.shape[0]\n",
    "test_x_cats = (testset_cats.reshape(samples_size, -1)) /255.\n",
    "test_x_dogs = (testset_dogs.reshape(samples_size, -1)) /255.\n",
    "testset_full = (np.concatenate((test_x_cats, test_x_dogs)))\n",
    "test_x_full = testset_full\n",
    "#print(dataset_cats[0][0])\n",
    "print(test_x_cats[0])\n",
    "\n",
    "print(test_x_full.shape)"
   ]
  },
  {
   "cell_type": "code",
   "execution_count": 9,
   "metadata": {},
   "outputs": [
    {
     "name": "stdout",
     "output_type": "stream",
     "text": [
      "(200, 2)\n"
     ]
    }
   ],
   "source": [
    "X = train_x_full\n",
    "model_cat = np.array((1,0))\n",
    "model_dog = np.array((0,1))\n",
    "\n",
    "\n",
    "Y_cats = np.tile(model_cat,(train_x_cats.shape[0],1))\n",
    "Y_dogs = np.tile(model_dog,(train_x_dogs.shape[0],1))\n",
    "\n",
    "\n",
    "\n",
    "Y_full = np.array([np.concatenate((Y_cats, Y_dogs))])[0]\n",
    "print(Y_full.shape)\n",
    "nn = NeuralNetwork(X, Y_full, 32, 'tanh')\n",
    "parameters = nn.get_parameters()\n",
    "Y = Y_full\n"
   ]
  },
  {
   "cell_type": "code",
   "execution_count": 10,
   "metadata": {
    "scrolled": true
   },
   "outputs": [
    {
     "name": "stdout",
     "output_type": "stream",
     "text": [
      "(200, 12288)\n",
      "elapsed_time:  174.86564135551453\n"
     ]
    }
   ],
   "source": [
    "print(X.shape) #(4, 2)\n",
    "start_time = time.time()\n",
    "info = nn.trainer(10000, 0.01, X.T, Y.T, log=False)\n",
    "elapsed_time = time.time() - start_time\n",
    "print('elapsed_time: ', elapsed_time)"
   ]
  },
  {
   "cell_type": "code",
   "execution_count": 11,
   "metadata": {},
   "outputs": [
    {
     "name": "stdout",
     "output_type": "stream",
     "text": [
      "(1, 12288)\n",
      "[[0.90980392 0.91764706 0.90588235 ... 0.67058824 0.71372549 0.74117647]]\n",
      "t:  [[0.97784303]\n",
      " [0.00837278]]\n",
      "accy:  [[1.02265902 0.        ]]\n"
     ]
    }
   ],
   "source": [
    "Xt_true = train_x_cats\n",
    "id_cat = 99\n",
    "print(Xt_true[id_cat:id_cat+1].shape)\n",
    "print(Xt_true[id_cat:id_cat+1])\n",
    "t = nn.test(Xt_true[id_cat:id_cat+1].T)\n",
    "print('t: ', t)\n",
    "accy =  Y[id_cat:id_cat+1] /  t[0] \n",
    "print('accy: ',(accy))\n"
   ]
  },
  {
   "cell_type": "code",
   "execution_count": 12,
   "metadata": {},
   "outputs": [
    {
     "name": "stdout",
     "output_type": "stream",
     "text": [
      "(1, 12288)\n",
      "[[1.         1.         1.         ... 0.84313725 0.88235294 0.89019608]]\n",
      "t:  [[-0.00644057]\n",
      " [ 0.99414902]]\n",
      "accy:  [[-155.26572825   -0.        ]]\n"
     ]
    }
   ],
   "source": [
    "Xt_false = train_x_dogs\n",
    "id_dog = 99\n",
    "print(Xt_false[id_dog:id_dog+1].shape)\n",
    "print(Xt_false[id_dog:id_dog+1])\n",
    "t = nn.test(Xt_false[id_dog:id_dog+1].T)\n",
    "print('t: ', t)\n",
    "accy =  Y[id_dog:id_dog+1] /  t[0] \n",
    "print('accy: ',(accy))"
   ]
  },
  {
   "cell_type": "code",
   "execution_count": 13,
   "metadata": {},
   "outputs": [
    {
     "name": "stdout",
     "output_type": "stream",
     "text": [
      "cats detected:  100\n",
      "dogs detected:  100\n"
     ]
    }
   ],
   "source": [
    "#Prueba data de entrenamiento\n",
    "cats_count = 0\n",
    "dogs_count = 0\n",
    "for i in range(0,X.shape[0]):\n",
    "    t = nn.test(X[i:i+1].T)\n",
    "    if( t[0]>0.8):\n",
    "        cats_count = cats_count +1\n",
    "    if( t[1]>0.8):\n",
    "        dogs_count = dogs_count +1\n",
    "\n",
    "print('cats detected: ', cats_count)\n",
    "print('dogs detected: ', dogs_count)"
   ]
  },
  {
   "cell_type": "code",
   "execution_count": 14,
   "metadata": {},
   "outputs": [
    {
     "name": "stdout",
     "output_type": "stream",
     "text": [
      "cats validateds:  100\n",
      "dogs validateds:  98\n"
     ]
    }
   ],
   "source": [
    "#Prueba data de validacin \n",
    "cats_count = 0\n",
    "dogs_count = 0\n",
    "X_test = test_x_full\n",
    "for i in range(0,X_test.shape[0]):\n",
    "    t = nn.test(X[i:i+1].T)\n",
    "    if( t[0]>0.8):\n",
    "        cats_count = cats_count +1\n",
    "    if( t[1]>0.8):\n",
    "        dogs_count = dogs_count +1\n",
    "\n",
    "print('cats validateds: ', cats_count)\n",
    "print('dogs validateds: ', dogs_count)"
   ]
  },
  {
   "cell_type": "code",
   "execution_count": 15,
   "metadata": {},
   "outputs": [
    {
     "name": "stdout",
     "output_type": "stream",
     "text": [
      "t:  [[0.79706981 0.98164742 0.96114448 0.86600877 0.62877472 0.54530458]\n",
      " [0.74037418 0.12729427 0.50876045 0.77164298 0.91185414 0.94488404]]\n"
     ]
    }
   ],
   "source": [
    "#probar coleccion que ya no existe en el dataset\n",
    "image_test = load_images_from_folder(windows_path+'tests/',6)\n",
    "testset_user = np.array(image_test)\n",
    "samples_size = testset_user.shape[0]\n",
    "test_flatten = (testset_user.reshape(samples_size, -1)) /255.\n",
    "\n",
    "\n",
    "t = nn.test(test_flatten.T)\n",
    "print('t: ', t)\n"
   ]
  },
  {
   "cell_type": "code",
   "execution_count": 23,
   "metadata": {},
   "outputs": [
    {
     "name": "stdout",
     "output_type": "stream",
     "text": [
      "Its a cat!!\n",
      "t:  [[0.86600877]\n",
      " [0.77164298]]\n"
     ]
    }
   ],
   "source": [
    "#probar coleccion que ya no existe en el dataset\n",
    "images = []\n",
    "images.append(parse_file(windows_path+'/tests/dog.1000.jpg'))\n",
    "\n",
    "image_test = images\n",
    "testset_user = np.array(image_test)\n",
    "samples_size = testset_user.shape[0]\n",
    "test_flatten = (testset_user.reshape(samples_size, -1)) /255.\n",
    "\n",
    "\n",
    "t = nn.test(test_flatten.T)\n",
    "if t[0]>0.8:\n",
    "    print('Its a cat!!')\n",
    "if t[1]>0.8:\n",
    "    print('Its a dog!!')\n",
    "print('t: ', t)"
   ]
  },
  {
   "cell_type": "code",
   "execution_count": 17,
   "metadata": {},
   "outputs": [
    {
     "data": {
      "text/plain": [
       "array([[1, 0],\n",
       "       [1, 0],\n",
       "       [1, 0]])"
      ]
     },
     "execution_count": 17,
     "metadata": {},
     "output_type": "execute_result"
    }
   ],
   "source": [
    "model = np.array((1,0))\n",
    "np.tile(model,(3,1))"
   ]
  },
  {
   "cell_type": "code",
   "execution_count": null,
   "metadata": {},
   "outputs": [],
   "source": []
  }
 ],
 "metadata": {
  "kernelspec": {
   "display_name": "Python 3",
   "language": "python",
   "name": "python3"
  },
  "language_info": {
   "codemirror_mode": {
    "name": "ipython",
    "version": 3
   },
   "file_extension": ".py",
   "mimetype": "text/x-python",
   "name": "python",
   "nbconvert_exporter": "python",
   "pygments_lexer": "ipython3",
   "version": "3.6.3"
  }
 },
 "nbformat": 4,
 "nbformat_minor": 2
}

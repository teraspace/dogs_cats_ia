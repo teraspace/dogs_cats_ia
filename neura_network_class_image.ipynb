{
 "cells": [
  {
   "cell_type": "code",
   "execution_count": 20,
   "metadata": {},
   "outputs": [],
   "source": [
    "#Compuerta analogica.\n",
    "#Version de neuronas vectorizadas con numpy\n",
    "import sys\n",
    "import copy\n",
    "import random\n",
    "import numpy as np \n",
    "import math as math\n",
    "import utils\n",
    "import time\n",
    "from neural_network import NeuralNetwork\n",
    "from os import listdir\n",
    "from PIL import Image as PImage\n",
    "from PIL import ImageOps as ImageOps\n",
    "import glob\n",
    "import os"
   ]
  },
  {
   "cell_type": "code",
   "execution_count": 21,
   "metadata": {},
   "outputs": [],
   "source": [
    "def parse_file(file):\n",
    " \n",
    "    img = PImage.open(file)\n",
    "    size= (64, 64)\n",
    "    img.thumbnail(size)\n",
    "    img = ImageOps.fit(img,size , PImage.ANTIALIAS)\n",
    "    npImage=np.array(img, np.uint16)\n",
    "    img_size = npImage.shape\n",
    "    return npImage"
   ]
  },
  {
   "cell_type": "code",
   "execution_count": 22,
   "metadata": {},
   "outputs": [],
   "source": [
    "def load_images_from_folder(folder, quantity):\n",
    "    images = []\n",
    "    for filename in os.listdir(folder)[:quantity]:        \n",
    "        images.append(parse_file(folder+filename))\n",
    "    return images"
   ]
  },
  {
   "cell_type": "code",
   "execution_count": 23,
   "metadata": {},
   "outputs": [],
   "source": [
    "windows_path = 'C:/Users/carlos/OneDrive/machine_learning/nn/'"
   ]
  },
  {
   "cell_type": "code",
   "execution_count": 24,
   "metadata": {
    "scrolled": true
   },
   "outputs": [
    {
     "name": "stdout",
     "output_type": "stream",
     "text": [
      "(64, 64, 3)\n"
     ]
    }
   ],
   "source": [
    "dataset_cats = load_images_from_folder(windows_path+'cat/',200)\n",
    "testset_cats = np.array(dataset_cats)[101:200]\n",
    "dataset_cats = np.array(dataset_cats)[:100]\n",
    "\n",
    "print(dataset_cats[0].shape)"
   ]
  },
  {
   "cell_type": "code",
   "execution_count": 25,
   "metadata": {},
   "outputs": [
    {
     "name": "stdout",
     "output_type": "stream",
     "text": [
      "(100, 64, 64, 3)\n"
     ]
    }
   ],
   "source": [
    "dataset_dogs = load_images_from_folder(windows_path+'dog/',200)\n",
    "testset_dogs = np.array(dataset_dogs)[101:200]\n",
    "dataset_dogs = np.array(dataset_dogs)[:100]\n",
    "\n",
    "print(dataset_dogs.shape)"
   ]
  },
  {
   "cell_type": "code",
   "execution_count": null,
   "metadata": {},
   "outputs": [],
   "source": []
  },
  {
   "cell_type": "code",
   "execution_count": 26,
   "metadata": {},
   "outputs": [
    {
     "name": "stdout",
     "output_type": "stream",
     "text": [
      "[0.95686275 0.78823529 0.47843137 ... 0.03137255 0.03137255 0.00392157]\n",
      "(200, 12288)\n"
     ]
    }
   ],
   "source": [
    "samples_size = dataset_dogs.shape[0]\n",
    "train_x_cats = (dataset_cats.reshape(samples_size, -1)) /255.\n",
    "train_x_dogs = (dataset_dogs.reshape(samples_size, -1)) /255.\n",
    "dataset_full = (np.concatenate((train_x_cats, train_x_dogs)))\n",
    "train_x_full = dataset_full\n",
    "#print(dataset_cats[0][0])\n",
    "print(train_x_cats[0])\n",
    "\n",
    "print(train_x_full.shape)"
   ]
  },
  {
   "cell_type": "code",
   "execution_count": 27,
   "metadata": {},
   "outputs": [
    {
     "name": "stdout",
     "output_type": "stream",
     "text": [
      "[0.42352941 0.38431373 0.34509804 ... 0.71372549 0.6745098  0.63921569]\n",
      "(198, 12288)\n"
     ]
    }
   ],
   "source": [
    "samples_size = testset_dogs.shape[0]\n",
    "test_x_cats = (testset_cats.reshape(samples_size, -1)) /255.\n",
    "test_x_dogs = (testset_dogs.reshape(samples_size, -1)) /255.\n",
    "testset_full = (np.concatenate((test_x_cats, test_x_dogs)))\n",
    "test_x_full = testset_full\n",
    "#print(dataset_cats[0][0])\n",
    "print(test_x_cats[0])\n",
    "\n",
    "print(test_x_full.shape)"
   ]
  },
  {
   "cell_type": "code",
   "execution_count": 29,
   "metadata": {},
   "outputs": [
    {
     "name": "stdout",
     "output_type": "stream",
     "text": [
      "{'W1': array([[-0.00499799, -0.00481926,  0.00895438, ..., -0.01793775,\n",
      "        -0.00645417,  0.00454576],\n",
      "       [ 0.00218608, -0.00919006, -0.00285732, ...,  0.00972544,\n",
      "         0.00249854, -0.01982253],\n",
      "       [ 0.00228624,  0.00761571, -0.0025751 , ...,  0.00410515,\n",
      "         0.00049976,  0.00388288],\n",
      "       ...,\n",
      "       [-0.00488772, -0.01759325, -0.00017839, ...,  0.00535541,\n",
      "         0.00039157, -0.00540717],\n",
      "       [ 0.01548829,  0.00485395,  0.00261907, ...,  0.02239123,\n",
      "         0.00364679,  0.00977518],\n",
      "       [ 0.0135845 , -0.00054091,  0.01137464, ..., -0.01525848,\n",
      "         0.00351213, -0.00244069]]), 'b1': array([[0.],\n",
      "       [0.],\n",
      "       [0.],\n",
      "       [0.],\n",
      "       [0.],\n",
      "       [0.],\n",
      "       [0.],\n",
      "       [0.],\n",
      "       [0.],\n",
      "       [0.],\n",
      "       [0.],\n",
      "       [0.],\n",
      "       [0.],\n",
      "       [0.],\n",
      "       [0.],\n",
      "       [0.],\n",
      "       [0.],\n",
      "       [0.],\n",
      "       [0.],\n",
      "       [0.],\n",
      "       [0.],\n",
      "       [0.],\n",
      "       [0.],\n",
      "       [0.],\n",
      "       [0.],\n",
      "       [0.],\n",
      "       [0.],\n",
      "       [0.],\n",
      "       [0.],\n",
      "       [0.],\n",
      "       [0.],\n",
      "       [0.]]), 'W2': array([[-1.36407901e-02,  9.09065203e-05,  2.01148232e-02,\n",
      "        -2.52804386e-02,  1.52294973e-03,  1.33793801e-02,\n",
      "         3.87147053e-03, -1.62965193e-02,  3.99317347e-03,\n",
      "         2.07650449e-03,  1.25332544e-02,  7.83128773e-03,\n",
      "         8.77608279e-03,  4.14156269e-03, -8.54832748e-03,\n",
      "         1.18886624e-02, -2.64964216e-04, -9.20314098e-03,\n",
      "        -8.78195841e-05,  1.53717840e-02,  1.77458098e-02,\n",
      "        -6.72462155e-03, -8.93222893e-03,  3.17520941e-03,\n",
      "        -1.47901313e-02,  1.19785336e-02,  3.41358095e-03,\n",
      "        -1.99749117e-03,  1.67779207e-02, -6.04196980e-04,\n",
      "        -2.38569246e-02, -8.29401515e-03]]), 'b2': array([[0.]]), 'mode': 'tanh'}\n"
     ]
    }
   ],
   "source": [
    "X = train_x_full\n",
    "\n",
    "Y_cats = np.ones((1,train_x_cats.shape[0]))\n",
    "Y_dogs = np.zeros((1,train_x_cats.shape[0]))\n",
    "Y_full = np.array([np.concatenate((Y_cats[0], Y_dogs[0]))]).T\n",
    "\n",
    "nn = NeuralNetwork(X, Y_full, 32, 'tanh')\n",
    "parameters = nn.get_parameters()\n",
    "print(parameters)\n",
    "Y = Y_full\n",
    "\n",
    "#print(Y_full.shape)"
   ]
  },
  {
   "cell_type": "code",
   "execution_count": 10,
   "metadata": {},
   "outputs": [
    {
     "name": "stdout",
     "output_type": "stream",
     "text": [
      "{'W1': array([[ 7.17420128e-03,  3.80045858e-04],\n",
      "       [-3.49464082e-03, -1.45922147e-02],\n",
      "       [ 9.43282158e-03, -1.33692679e-02],\n",
      "       [-4.06610955e-03,  8.70988020e-03],\n",
      "       [ 9.68337798e-05, -3.35723209e-03],\n",
      "       [ 2.00066578e-03,  1.07187092e-02],\n",
      "       [-1.96141395e-02,  1.16825839e-03],\n",
      "       [-1.79498725e-02, -7.61879280e-04]]), 'b1': array([[0.],\n",
      "       [0.],\n",
      "       [0.],\n",
      "       [0.],\n",
      "       [0.],\n",
      "       [0.],\n",
      "       [0.],\n",
      "       [0.]]), 'W2': array([[ 0.01248717,  0.00328874,  0.00241094,  0.00470991, -0.0115771 ,\n",
      "        -0.01325555,  0.01441751,  0.00228298]]), 'b2': array([[0.]]), 'mode': 'sigmoid'}\n",
      "(4, 2)\n",
      "(4, 1)\n"
     ]
    }
   ],
   "source": [
    "#test demo binary\n",
    "X = np.array([[0, 0], [0, 1], [1, 0], [1, 1]])\n",
    "Y = np.array([[1], [0.1], [0.5], [0]])\n",
    "nn = NeuralNetwork(X, Y, 8, 'sigmoid')\n",
    "parameters = nn.get_parameters()\n",
    "print(parameters)\n",
    "print(X.shape) #(4, 2)\n",
    "print(Y.shape) #(4, 1)"
   ]
  },
  {
   "cell_type": "code",
   "execution_count": 30,
   "metadata": {
    "scrolled": true
   },
   "outputs": [
    {
     "name": "stdout",
     "output_type": "stream",
     "text": [
      "(200, 12288)\n",
      "elapsed_time:  181.41337966918945\n"
     ]
    }
   ],
   "source": [
    "print(X.shape) #(4, 2)\n",
    "start_time = time.time()\n",
    "info = nn.trainer(10000, 0.01, X.T, Y.T, log=False)\n",
    "elapsed_time = time.time() - start_time\n",
    "print('elapsed_time: ', elapsed_time)"
   ]
  },
  {
   "cell_type": "code",
   "execution_count": 31,
   "metadata": {},
   "outputs": [
    {
     "name": "stdout",
     "output_type": "stream",
     "text": [
      "(1, 12288)\n",
      "[[0.90980392 0.91764706 0.90588235 ... 0.67058824 0.71372549 0.74117647]]\n",
      "t:  [[0.96918529]]\n",
      "accy:  [[1.03179444]]\n"
     ]
    }
   ],
   "source": [
    "Xt_true = train_x_cats\n",
    "id_cat = 99\n",
    "print(Xt_true[id_cat:id_cat+1].shape)\n",
    "print(Xt_true[id_cat:id_cat+1])\n",
    "t = nn.test(Xt_true[id_cat:id_cat+1].T)\n",
    "print('t: ', t)\n",
    "accy =  Y[id_cat:id_cat+1] /  t[0] \n",
    "print('accy: ',(accy))\n"
   ]
  },
  {
   "cell_type": "code",
   "execution_count": 13,
   "metadata": {},
   "outputs": [
    {
     "name": "stdout",
     "output_type": "stream",
     "text": [
      "(1, 12288)\n",
      "[[1.         1.         1.         ... 0.84313725 0.88235294 0.89019608]]\n"
     ]
    },
    {
     "ename": "ValueError",
     "evalue": "shapes (8,2) and (12288,1) not aligned: 2 (dim 1) != 12288 (dim 0)",
     "output_type": "error",
     "traceback": [
      "\u001b[1;31m---------------------------------------------------------------------------\u001b[0m",
      "\u001b[1;31mValueError\u001b[0m                                Traceback (most recent call last)",
      "\u001b[1;32m<ipython-input-13-b0b1dda28e3a>\u001b[0m in \u001b[0;36m<module>\u001b[1;34m()\u001b[0m\n\u001b[0;32m      3\u001b[0m \u001b[0mprint\u001b[0m\u001b[1;33m(\u001b[0m\u001b[0mXt_false\u001b[0m\u001b[1;33m[\u001b[0m\u001b[0mid_dog\u001b[0m\u001b[1;33m:\u001b[0m\u001b[0mid_dog\u001b[0m\u001b[1;33m+\u001b[0m\u001b[1;36m1\u001b[0m\u001b[1;33m]\u001b[0m\u001b[1;33m.\u001b[0m\u001b[0mshape\u001b[0m\u001b[1;33m)\u001b[0m\u001b[1;33m\u001b[0m\u001b[0m\n\u001b[0;32m      4\u001b[0m \u001b[0mprint\u001b[0m\u001b[1;33m(\u001b[0m\u001b[0mXt_false\u001b[0m\u001b[1;33m[\u001b[0m\u001b[0mid_dog\u001b[0m\u001b[1;33m:\u001b[0m\u001b[0mid_dog\u001b[0m\u001b[1;33m+\u001b[0m\u001b[1;36m1\u001b[0m\u001b[1;33m]\u001b[0m\u001b[1;33m)\u001b[0m\u001b[1;33m\u001b[0m\u001b[0m\n\u001b[1;32m----> 5\u001b[1;33m \u001b[0mt\u001b[0m \u001b[1;33m=\u001b[0m \u001b[0mnn\u001b[0m\u001b[1;33m.\u001b[0m\u001b[0mtest\u001b[0m\u001b[1;33m(\u001b[0m\u001b[0mXt_false\u001b[0m\u001b[1;33m[\u001b[0m\u001b[0mid_dog\u001b[0m\u001b[1;33m:\u001b[0m\u001b[0mid_dog\u001b[0m\u001b[1;33m+\u001b[0m\u001b[1;36m1\u001b[0m\u001b[1;33m]\u001b[0m\u001b[1;33m.\u001b[0m\u001b[0mT\u001b[0m\u001b[1;33m)\u001b[0m\u001b[1;33m\u001b[0m\u001b[0m\n\u001b[0m\u001b[0;32m      6\u001b[0m \u001b[0mprint\u001b[0m\u001b[1;33m(\u001b[0m\u001b[1;34m't: '\u001b[0m\u001b[1;33m,\u001b[0m \u001b[0mt\u001b[0m\u001b[1;33m)\u001b[0m\u001b[1;33m\u001b[0m\u001b[0m\n\u001b[0;32m      7\u001b[0m \u001b[0maccy\u001b[0m \u001b[1;33m=\u001b[0m  \u001b[0mY\u001b[0m\u001b[1;33m[\u001b[0m\u001b[0mid_dog\u001b[0m\u001b[1;33m:\u001b[0m\u001b[0mid_dog\u001b[0m\u001b[1;33m+\u001b[0m\u001b[1;36m1\u001b[0m\u001b[1;33m]\u001b[0m \u001b[1;33m/\u001b[0m  \u001b[0mt\u001b[0m\u001b[1;33m[\u001b[0m\u001b[1;36m0\u001b[0m\u001b[1;33m]\u001b[0m\u001b[1;33m\u001b[0m\u001b[0m\n",
      "\u001b[1;32m~\\OneDrive\\machine_learning\\nn\\neural_network.py\u001b[0m in \u001b[0;36mtest\u001b[1;34m(self, x)\u001b[0m\n\u001b[0;32m    109\u001b[0m         \u001b[0mb2\u001b[0m \u001b[1;33m=\u001b[0m \u001b[0mself\u001b[0m\u001b[1;33m.\u001b[0m\u001b[0mget_parameters\u001b[0m\u001b[1;33m(\u001b[0m\u001b[1;33m)\u001b[0m\u001b[1;33m[\u001b[0m\u001b[1;34m'b2'\u001b[0m\u001b[1;33m]\u001b[0m\u001b[1;33m\u001b[0m\u001b[0m\n\u001b[0;32m    110\u001b[0m         \u001b[0mmode\u001b[0m \u001b[1;33m=\u001b[0m \u001b[0mself\u001b[0m\u001b[1;33m.\u001b[0m\u001b[0mget_parameters\u001b[0m\u001b[1;33m(\u001b[0m\u001b[1;33m)\u001b[0m\u001b[1;33m[\u001b[0m\u001b[1;34m'mode'\u001b[0m\u001b[1;33m]\u001b[0m\u001b[1;33m\u001b[0m\u001b[0m\n\u001b[1;32m--> 111\u001b[1;33m         \u001b[0ma1\u001b[0m \u001b[1;33m=\u001b[0m \u001b[0mself\u001b[0m\u001b[1;33m.\u001b[0m\u001b[0mthink\u001b[0m\u001b[1;33m(\u001b[0m \u001b[0mx\u001b[0m\u001b[1;33m,\u001b[0m \u001b[0mW1\u001b[0m\u001b[1;33m,\u001b[0m \u001b[0mb1\u001b[0m\u001b[1;33m,\u001b[0m \u001b[0mmode\u001b[0m \u001b[1;33m)\u001b[0m\u001b[1;33m\u001b[0m\u001b[0m\n\u001b[0m\u001b[0;32m    112\u001b[0m         \u001b[0ma2\u001b[0m \u001b[1;33m=\u001b[0m \u001b[0mself\u001b[0m\u001b[1;33m.\u001b[0m\u001b[0mthink\u001b[0m\u001b[1;33m(\u001b[0m\u001b[0ma1\u001b[0m\u001b[1;33m,\u001b[0m \u001b[0mW2\u001b[0m\u001b[1;33m,\u001b[0m \u001b[0mb2\u001b[0m\u001b[1;33m,\u001b[0m \u001b[0mmode\u001b[0m\u001b[1;33m)\u001b[0m\u001b[1;33m\u001b[0m\u001b[0m\n\u001b[0;32m    113\u001b[0m         \u001b[1;32mreturn\u001b[0m \u001b[0ma2\u001b[0m\u001b[1;33m\u001b[0m\u001b[0m\n",
      "\u001b[1;32m~\\OneDrive\\machine_learning\\nn\\neural_network.py\u001b[0m in \u001b[0;36mthink\u001b[1;34m(self, x, w, b, mode)\u001b[0m\n\u001b[0;32m     54\u001b[0m         \u001b[0mself\u001b[0m\u001b[1;33m.\u001b[0m\u001b[0mlearning\u001b[0m \u001b[1;33m=\u001b[0m \u001b[0mlearning\u001b[0m\u001b[1;33m\u001b[0m\u001b[0m\n\u001b[0;32m     55\u001b[0m     \u001b[1;32mdef\u001b[0m \u001b[0mthink\u001b[0m\u001b[1;33m(\u001b[0m\u001b[0mself\u001b[0m\u001b[1;33m,\u001b[0m \u001b[0mx\u001b[0m\u001b[1;33m,\u001b[0m \u001b[0mw\u001b[0m\u001b[1;33m,\u001b[0m \u001b[0mb\u001b[0m\u001b[1;33m,\u001b[0m \u001b[0mmode\u001b[0m\u001b[1;33m)\u001b[0m\u001b[1;33m:\u001b[0m\u001b[1;33m\u001b[0m\u001b[0m\n\u001b[1;32m---> 56\u001b[1;33m         \u001b[0md\u001b[0m \u001b[1;33m=\u001b[0m \u001b[0mnp\u001b[0m\u001b[1;33m.\u001b[0m\u001b[0mdot\u001b[0m\u001b[1;33m(\u001b[0m\u001b[0mw\u001b[0m\u001b[1;33m,\u001b[0m \u001b[0mx\u001b[0m\u001b[1;33m)\u001b[0m \u001b[1;33m+\u001b[0m \u001b[0mb\u001b[0m\u001b[1;33m\u001b[0m\u001b[0m\n\u001b[0m\u001b[0;32m     57\u001b[0m         \u001b[0ma\u001b[0m \u001b[1;33m=\u001b[0m  \u001b[0mself\u001b[0m\u001b[1;33m.\u001b[0m\u001b[0maxon\u001b[0m\u001b[1;33m(\u001b[0m\u001b[0md\u001b[0m\u001b[1;33m,\u001b[0m \u001b[0mmode\u001b[0m\u001b[1;33m)\u001b[0m\u001b[1;33m\u001b[0m\u001b[0m\n\u001b[0;32m     58\u001b[0m         \u001b[1;32mreturn\u001b[0m \u001b[0ma\u001b[0m\u001b[1;33m\u001b[0m\u001b[0m\n",
      "\u001b[1;31mValueError\u001b[0m: shapes (8,2) and (12288,1) not aligned: 2 (dim 1) != 12288 (dim 0)"
     ]
    }
   ],
   "source": [
    "Xt_false = train_x_dogs\n",
    "id_dog = 99\n",
    "print(Xt_false[id_dog:id_dog+1].shape)\n",
    "print(Xt_false[id_dog:id_dog+1])\n",
    "t = nn.test(Xt_false[id_dog:id_dog+1].T)\n",
    "print('t: ', t)\n",
    "accy =  Y[id_dog:id_dog+1] /  t[0] \n",
    "print('accy: ',(accy))"
   ]
  },
  {
   "cell_type": "code",
   "execution_count": 32,
   "metadata": {},
   "outputs": [
    {
     "name": "stdout",
     "output_type": "stream",
     "text": [
      "[0.95686275 0.78823529 0.47843137 ... 0.03137255 0.03137255 0.00392157]\n",
      "[0.56078431 0.54509804 0.6        ... 0.29803922 0.3372549  0.34509804]\n"
     ]
    }
   ],
   "source": [
    "print(X[0])\n",
    "\n",
    "print(Xt_false[0])"
   ]
  },
  {
   "cell_type": "code",
   "execution_count": 33,
   "metadata": {},
   "outputs": [
    {
     "name": "stdout",
     "output_type": "stream",
     "text": [
      "cats detected:  100\n",
      "dogs detected:  100\n"
     ]
    }
   ],
   "source": [
    "#Prueba data de entrenamiento\n",
    "cats_count = 0\n",
    "dogs_count = 0\n",
    "for xx in range(0,X.shape[0]):\n",
    "    t = nn.test(X[xx:xx+1].T)\n",
    "    #print(t[0][0], xx)\n",
    "    y_h = t[0][0]\n",
    "    if(y_h>0.8):\n",
    "        cats_count = cats_count +1\n",
    "    else:\n",
    "        dogs_count = dogs_count +1\n",
    "\n",
    "print('cats detected: ', cats_count)\n",
    "print('dogs detected: ', dogs_count)"
   ]
  },
  {
   "cell_type": "code",
   "execution_count": 34,
   "metadata": {},
   "outputs": [
    {
     "name": "stdout",
     "output_type": "stream",
     "text": [
      "cats validateds:  113\n",
      "dogs validateds:  85\n"
     ]
    }
   ],
   "source": [
    "#Prueba data de validacin \n",
    "cats_count = 0\n",
    "dogs_count = 0\n",
    "X_test = test_x_full\n",
    "for xx in range(0,X_test.shape[0]):\n",
    "    t = nn.test(X_test[xx:xx+1].T)\n",
    "    #print(t[0][0], xx)\n",
    "    y_h = t[0][0]\n",
    "    if(y_h>0.8):\n",
    "        cats_count = cats_count +1\n",
    "    else:\n",
    "        dogs_count = dogs_count +1\n",
    "\n",
    "print('cats validateds: ', cats_count)\n",
    "print('dogs validateds: ', dogs_count)"
   ]
  },
  {
   "cell_type": "code",
   "execution_count": 35,
   "metadata": {},
   "outputs": [
    {
     "name": "stdout",
     "output_type": "stream",
     "text": [
      "(1, 65536)\n"
     ]
    },
    {
     "ename": "ValueError",
     "evalue": "shapes (32,12288) and (65536,1) not aligned: 12288 (dim 1) != 65536 (dim 0)",
     "output_type": "error",
     "traceback": [
      "\u001b[1;31m---------------------------------------------------------------------------\u001b[0m",
      "\u001b[1;31mValueError\u001b[0m                                Traceback (most recent call last)",
      "\u001b[1;32m<ipython-input-35-3e4f500b6d1e>\u001b[0m in \u001b[0;36m<module>\u001b[1;34m()\u001b[0m\n\u001b[0;32m      1\u001b[0m \u001b[0mXt\u001b[0m \u001b[1;33m=\u001b[0m \u001b[0mnp\u001b[0m\u001b[1;33m.\u001b[0m\u001b[0mrandom\u001b[0m\u001b[1;33m.\u001b[0m\u001b[0mrandn\u001b[0m\u001b[1;33m(\u001b[0m\u001b[1;36m1\u001b[0m\u001b[1;33m,\u001b[0m\u001b[1;36m65536\u001b[0m\u001b[1;33m)\u001b[0m\u001b[1;33m\u001b[0m\u001b[0m\n\u001b[0;32m      2\u001b[0m \u001b[0mprint\u001b[0m\u001b[1;33m(\u001b[0m\u001b[0mXt\u001b[0m\u001b[1;33m.\u001b[0m\u001b[0mshape\u001b[0m\u001b[1;33m)\u001b[0m\u001b[1;33m\u001b[0m\u001b[0m\n\u001b[1;32m----> 3\u001b[1;33m \u001b[0mt\u001b[0m \u001b[1;33m=\u001b[0m \u001b[0mnn\u001b[0m\u001b[1;33m.\u001b[0m\u001b[0mtest\u001b[0m\u001b[1;33m(\u001b[0m\u001b[0mXt\u001b[0m\u001b[1;33m.\u001b[0m\u001b[0mT\u001b[0m\u001b[1;33m)\u001b[0m\u001b[1;33m\u001b[0m\u001b[0m\n\u001b[0m\u001b[0;32m      4\u001b[0m \u001b[0mprint\u001b[0m\u001b[1;33m(\u001b[0m\u001b[1;34m't: '\u001b[0m\u001b[1;33m,\u001b[0m \u001b[0mt\u001b[0m\u001b[1;33m)\u001b[0m\u001b[1;33m\u001b[0m\u001b[0m\n\u001b[0;32m      5\u001b[0m \u001b[0maccy\u001b[0m \u001b[1;33m=\u001b[0m  \u001b[0mnp\u001b[0m\u001b[1;33m.\u001b[0m\u001b[0msum\u001b[0m\u001b[1;33m(\u001b[0m\u001b[0mY\u001b[0m\u001b[1;33m[\u001b[0m\u001b[1;33m:\u001b[0m\u001b[1;36m1\u001b[0m\u001b[1;33m]\u001b[0m\u001b[1;33m)\u001b[0m \u001b[1;33m/\u001b[0m \u001b[1;33m(\u001b[0m\u001b[0mnp\u001b[0m\u001b[1;33m.\u001b[0m\u001b[0msum\u001b[0m\u001b[1;33m(\u001b[0m\u001b[0mt\u001b[0m\u001b[1;33m)\u001b[0m \u001b[1;33m)\u001b[0m\u001b[1;33m\u001b[0m\u001b[0m\n",
      "\u001b[1;32m~\\OneDrive\\machine_learning\\nn\\neural_network.py\u001b[0m in \u001b[0;36mtest\u001b[1;34m(self, x)\u001b[0m\n\u001b[0;32m    109\u001b[0m         \u001b[0mb2\u001b[0m \u001b[1;33m=\u001b[0m \u001b[0mself\u001b[0m\u001b[1;33m.\u001b[0m\u001b[0mget_parameters\u001b[0m\u001b[1;33m(\u001b[0m\u001b[1;33m)\u001b[0m\u001b[1;33m[\u001b[0m\u001b[1;34m'b2'\u001b[0m\u001b[1;33m]\u001b[0m\u001b[1;33m\u001b[0m\u001b[0m\n\u001b[0;32m    110\u001b[0m         \u001b[0mmode\u001b[0m \u001b[1;33m=\u001b[0m \u001b[0mself\u001b[0m\u001b[1;33m.\u001b[0m\u001b[0mget_parameters\u001b[0m\u001b[1;33m(\u001b[0m\u001b[1;33m)\u001b[0m\u001b[1;33m[\u001b[0m\u001b[1;34m'mode'\u001b[0m\u001b[1;33m]\u001b[0m\u001b[1;33m\u001b[0m\u001b[0m\n\u001b[1;32m--> 111\u001b[1;33m         \u001b[0ma1\u001b[0m \u001b[1;33m=\u001b[0m \u001b[0mself\u001b[0m\u001b[1;33m.\u001b[0m\u001b[0mthink\u001b[0m\u001b[1;33m(\u001b[0m \u001b[0mx\u001b[0m\u001b[1;33m,\u001b[0m \u001b[0mW1\u001b[0m\u001b[1;33m,\u001b[0m \u001b[0mb1\u001b[0m\u001b[1;33m,\u001b[0m \u001b[0mmode\u001b[0m \u001b[1;33m)\u001b[0m\u001b[1;33m\u001b[0m\u001b[0m\n\u001b[0m\u001b[0;32m    112\u001b[0m         \u001b[0ma2\u001b[0m \u001b[1;33m=\u001b[0m \u001b[0mself\u001b[0m\u001b[1;33m.\u001b[0m\u001b[0mthink\u001b[0m\u001b[1;33m(\u001b[0m\u001b[0ma1\u001b[0m\u001b[1;33m,\u001b[0m \u001b[0mW2\u001b[0m\u001b[1;33m,\u001b[0m \u001b[0mb2\u001b[0m\u001b[1;33m,\u001b[0m \u001b[0mmode\u001b[0m\u001b[1;33m)\u001b[0m\u001b[1;33m\u001b[0m\u001b[0m\n\u001b[0;32m    113\u001b[0m         \u001b[1;32mreturn\u001b[0m \u001b[0ma2\u001b[0m\u001b[1;33m\u001b[0m\u001b[0m\n",
      "\u001b[1;32m~\\OneDrive\\machine_learning\\nn\\neural_network.py\u001b[0m in \u001b[0;36mthink\u001b[1;34m(self, x, w, b, mode)\u001b[0m\n\u001b[0;32m     54\u001b[0m         \u001b[0mself\u001b[0m\u001b[1;33m.\u001b[0m\u001b[0mlearning\u001b[0m \u001b[1;33m=\u001b[0m \u001b[0mlearning\u001b[0m\u001b[1;33m\u001b[0m\u001b[0m\n\u001b[0;32m     55\u001b[0m     \u001b[1;32mdef\u001b[0m \u001b[0mthink\u001b[0m\u001b[1;33m(\u001b[0m\u001b[0mself\u001b[0m\u001b[1;33m,\u001b[0m \u001b[0mx\u001b[0m\u001b[1;33m,\u001b[0m \u001b[0mw\u001b[0m\u001b[1;33m,\u001b[0m \u001b[0mb\u001b[0m\u001b[1;33m,\u001b[0m \u001b[0mmode\u001b[0m\u001b[1;33m)\u001b[0m\u001b[1;33m:\u001b[0m\u001b[1;33m\u001b[0m\u001b[0m\n\u001b[1;32m---> 56\u001b[1;33m         \u001b[0md\u001b[0m \u001b[1;33m=\u001b[0m \u001b[0mnp\u001b[0m\u001b[1;33m.\u001b[0m\u001b[0mdot\u001b[0m\u001b[1;33m(\u001b[0m\u001b[0mw\u001b[0m\u001b[1;33m,\u001b[0m \u001b[0mx\u001b[0m\u001b[1;33m)\u001b[0m \u001b[1;33m+\u001b[0m \u001b[0mb\u001b[0m\u001b[1;33m\u001b[0m\u001b[0m\n\u001b[0m\u001b[0;32m     57\u001b[0m         \u001b[0ma\u001b[0m \u001b[1;33m=\u001b[0m  \u001b[0mself\u001b[0m\u001b[1;33m.\u001b[0m\u001b[0maxon\u001b[0m\u001b[1;33m(\u001b[0m\u001b[0md\u001b[0m\u001b[1;33m,\u001b[0m \u001b[0mmode\u001b[0m\u001b[1;33m)\u001b[0m\u001b[1;33m\u001b[0m\u001b[0m\n\u001b[0;32m     58\u001b[0m         \u001b[1;32mreturn\u001b[0m \u001b[0ma\u001b[0m\u001b[1;33m\u001b[0m\u001b[0m\n",
      "\u001b[1;31mValueError\u001b[0m: shapes (32,12288) and (65536,1) not aligned: 12288 (dim 1) != 65536 (dim 0)"
     ]
    }
   ],
   "source": [
    "Xt = np.random.randn(1,65536)\n",
    "print(Xt.shape)\n",
    "t = nn.test(Xt.T)\n",
    "print('t: ', t)\n",
    "accy =  np.sum(Y[:1]) / (np.sum(t) )\n",
    "print('accy: ',(accy))"
   ]
  },
  {
   "cell_type": "code",
   "execution_count": 18,
   "metadata": {},
   "outputs": [
    {
     "name": "stdout",
     "output_type": "stream",
     "text": [
      "(4, 2)\n",
      "[[0 0]]\n",
      "t:  [[0.40243385 0.39997384 0.40131432 0.39885828]]\n",
      "accy:  0.9983899152428534\n"
     ]
    }
   ],
   "source": [
    "#test demo binary\n",
    "print(X.shape)\n",
    "print(X[:1])\n",
    "t = nn.test(X.T)\n",
    "print('t: ', t)\n",
    "accy =  np.sum(Y) / (np.sum(t) )\n",
    "print('accy: ',(accy))"
   ]
  },
  {
   "cell_type": "code",
   "execution_count": 36,
   "metadata": {},
   "outputs": [
    {
     "name": "stdout",
     "output_type": "stream",
     "text": [
      "t:  [[0.48491401 0.99935115 0.97188511 0.74268968 0.607718   0.71210771]]\n"
     ]
    }
   ],
   "source": [
    "#probar coleccion que ya no existe en el dataset\n",
    "image_test = load_images_from_folder(windows_path+'tests/',6)\n",
    "testset_user = np.array(image_test)\n",
    "samples_size = testset_user.shape[0]\n",
    "test_flatten = (testset_user.reshape(samples_size, -1)) /255.\n",
    "\n",
    "\n",
    "t = nn.test(test_flatten.T)\n",
    "print('t: ', t)\n"
   ]
  },
  {
   "cell_type": "code",
   "execution_count": 37,
   "metadata": {},
   "outputs": [
    {
     "name": "stdout",
     "output_type": "stream",
     "text": [
      "Its a cat!!\n",
      "t:  [[0.99559224]]\n"
     ]
    }
   ],
   "source": [
    "#probar coleccion que ya no existe en el dataset\n",
    "images = []\n",
    "images.append(parse_file(windows_path+'/tests/perro.jpg'))\n",
    "\n",
    "image_test = images\n",
    "testset_user = np.array(image_test)\n",
    "samples_size = testset_user.shape[0]\n",
    "test_flatten = (testset_user.reshape(samples_size, -1)) /255.\n",
    "\n",
    "\n",
    "t = nn.test(test_flatten.T)\n",
    "if t>0.8:\n",
    "    print('Its a cat!!')\n",
    "else:\n",
    "    print('Its a dog!!')\n",
    "print('t: ', t)"
   ]
  },
  {
   "cell_type": "code",
   "execution_count": null,
   "metadata": {},
   "outputs": [],
   "source": []
  },
  {
   "cell_type": "code",
   "execution_count": null,
   "metadata": {},
   "outputs": [],
   "source": []
  }
 ],
 "metadata": {
  "kernelspec": {
   "display_name": "Python 3",
   "language": "python",
   "name": "python3"
  },
  "language_info": {
   "codemirror_mode": {
    "name": "ipython",
    "version": 3
   },
   "file_extension": ".py",
   "mimetype": "text/x-python",
   "name": "python",
   "nbconvert_exporter": "python",
   "pygments_lexer": "ipython3",
   "version": "3.6.3"
  }
 },
 "nbformat": 4,
 "nbformat_minor": 2
}

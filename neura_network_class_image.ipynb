{
  "nbformat": 4,
  "nbformat_minor": 0,
  "metadata": {
    "kernelspec": {
      "display_name": "Python 3",
      "language": "python",
      "name": "python3"
    },
    "language_info": {
      "codemirror_mode": {
        "name": "ipython",
        "version": 3
      },
      "file_extension": ".py",
      "mimetype": "text/x-python",
      "name": "python",
      "nbconvert_exporter": "python",
      "pygments_lexer": "ipython3",
      "version": "3.6.3"
    },
    "colab": {
      "name": "neura_network_class_image.ipynb",
      "provenance": []
    }
  },
  "cells": [
    {
      "cell_type": "markdown",
      "metadata": {
        "id": "-iStNm1S528q"
      },
      "source": [
        "DEMOSTRACIÓN DE CONOCIMIENTOS SOBRE MACHINE LEARNING.\n",
        "**texto en negrita**\n",
        "\n",
        "---\n",
        "\n",
        "\n",
        "\n",
        "La idea de este ejercicio es lograr una oportunidad laboral para seguir creciendo en este tema.\n",
        "\n",
        "***By Carlos Manuel Patiño Machado.***\n",
        "\n",
        "Escribí la clase NeuralNetwork con muy poco código googleado. La adaptación es 100% escrita por mí. \n",
        "\n",
        "Aplicar la IA no es solamente copiar y pegar código usando un Framework a ciegas, sin antes analizar la calidad de los datos de entrenamiento y buscar la mejor arquitectura de red de validación para el correcto entretamiento.\n",
        "\n",
        "Además el ajuste de la red y la debida optimización coste/beneficio del entrenamiento fué ajustado utilizando diversas teorías que explica AndrewNG en Coursera.\n",
        "\n",
        "En este notebook demuestro mis conocimientos sobre Perceptrones, al mismo tiempo que Machine Learning y sobre todo Redes Neuronales, para IA (entrenamiento automático). \n",
        "\n",
        "Como es posible verse no se utiliza ningún framework conocido para IA como Tensorflow, o scikit etc.\n",
        "\n",
        "Salvo que si se usan Numpy para hacer operaciones de Array una vez la lógica del perceptron y su Backpropagation fué claramente estudiado en los ejercicios \"Neuro\" de mi repositorio. \n",
        "\n",
        "Intenté escribir este ejercicio con solo operaciones matemáticas pero; es totalmente inútil por la lentitud sobre todo si la red se entrena para identificar patrones en imagenes. De modo que este ejercicio si que utiliza Nummpy para realizar operaciones matriciales.\n",
        "\n",
        "El próximo pasó es gráficar la Learning Curve Q. Y tal vez hacer un file uploader para que cualquier usuario común suba la foto de un perro o gato y testee con su propia imagen y no con la colección aca presente.\n",
        "\n",
        "**En ocasiones la red es >95%  efectiva. Tieniendo como limitantes la detección de perros estilo dibujo animado ya que la red fué entrenada usando fotos de perros reales... Sin embargo sería un hito ya que un niño si que es capaz de identiicar un canino en dibujos animados una vez aprende que es un perro en la vida real.** \n",
        "\n",
        "Espero resolver esto prontamente. \n"
      ]
    },
    {
      "cell_type": "code",
      "metadata": {
        "id": "wv2_v2jm5zy1"
      },
      "source": [
        "import sys\n",
        "import copy\n",
        "import random\n",
        "import numpy as np \n",
        "import math as math\n",
        "import planar_utils\n",
        "import time\n",
        "from neural_network import NeuralNetwork\n",
        "from os import listdir\n",
        "from PIL import Image as PImage\n",
        "from PIL import ImageOps as ImageOps\n",
        "import glob\n",
        "import os"
      ],
      "execution_count": null,
      "outputs": []
    },
    {
      "cell_type": "code",
      "metadata": {
        "id": "qMH0dhZaz-WB"
      },
      "source": [
        "def parse_file(file):\n",
        " \n",
        "    img = PImage.open(file)\n",
        "    size= (64, 64)\n",
        "    img.thumbnail(size)\n",
        "    img = ImageOps.fit(img,size , PImage.ANTIALIAS)\n",
        "    npImage=np.array(img, np.uint16)\n",
        "    img_size = npImage.shape\n",
        "    return npImage"
      ],
      "execution_count": 23,
      "outputs": []
    },
    {
      "cell_type": "code",
      "metadata": {
        "id": "Sc7zX7RIz-WP"
      },
      "source": [
        "def load_images_from_folder(folder, quantity):\n",
        "    images = []\n",
        "    for filename in os.listdir(folder)[:quantity]:        \n",
        "        images.append(parse_file(folder+filename))\n",
        "    return images"
      ],
      "execution_count": 24,
      "outputs": []
    },
    {
      "cell_type": "code",
      "metadata": {
        "id": "ayiDNIaVz-Wf"
      },
      "source": [
        "windows_path = '/content/neuron/'"
      ],
      "execution_count": 25,
      "outputs": []
    },
    {
      "cell_type": "code",
      "metadata": {
        "scrolled": true,
        "id": "sNueTG0Bz-XU",
        "outputId": "74624d78-9382-4155-fa39-006edbcb9fa1",
        "colab": {
          "base_uri": "https://localhost:8080/",
          "height": 35
        }
      },
      "source": [
        "dataset_cats = load_images_from_folder(windows_path+'cat/',200)\n",
        "testset_cats = np.array(dataset_cats)[101:200]\n",
        "dataset_cats = np.array(dataset_cats)[:100]\n",
        "\n",
        "print(dataset_cats[0].shape)"
      ],
      "execution_count": 26,
      "outputs": [
        {
          "output_type": "stream",
          "text": [
            "(64, 64, 3)\n"
          ],
          "name": "stdout"
        }
      ]
    },
    {
      "cell_type": "code",
      "metadata": {
        "id": "gmboVyA1z-Xj",
        "outputId": "776a017a-6e62-4b7f-e878-253d72c7cd89",
        "colab": {
          "base_uri": "https://localhost:8080/",
          "height": 35
        }
      },
      "source": [
        "dataset_dogs = load_images_from_folder(windows_path+'dog/',200)\n",
        "testset_dogs = np.array(dataset_dogs)[101:200]\n",
        "dataset_dogs = np.array(dataset_dogs)[:100]\n",
        "\n",
        "print(dataset_dogs.shape)"
      ],
      "execution_count": 27,
      "outputs": [
        {
          "output_type": "stream",
          "text": [
            "(100, 64, 64, 3)\n"
          ],
          "name": "stdout"
        }
      ]
    },
    {
      "cell_type": "code",
      "metadata": {
        "id": "m2Zi7j_8z-X-",
        "outputId": "5946baed-d7a9-4b6c-8b2c-52ee88b36c26",
        "colab": {
          "base_uri": "https://localhost:8080/",
          "height": 54
        }
      },
      "source": [
        "samples_size = dataset_dogs.shape[0]\n",
        "train_x_cats = (dataset_cats.reshape(samples_size, -1)) /255.\n",
        "train_x_dogs = (dataset_dogs.reshape(samples_size, -1)) /255.\n",
        "dataset_full = (np.concatenate((train_x_cats, train_x_dogs)))\n",
        "train_x_full = dataset_full\n",
        "#print(dataset_cats[0][0])\n",
        "print(train_x_cats[0])\n",
        "\n",
        "print(train_x_full.shape)"
      ],
      "execution_count": 28,
      "outputs": [
        {
          "output_type": "stream",
          "text": [
            "[0.14117647 0.14509804 0.09019608 ... 0.17254902 0.15686275 0.1254902 ]\n",
            "(200, 12288)\n"
          ],
          "name": "stdout"
        }
      ]
    },
    {
      "cell_type": "code",
      "metadata": {
        "id": "uTvfs1Wxz-YE",
        "outputId": "829d4a9e-f0ce-4bf8-ccea-8142e4464f2b",
        "colab": {
          "base_uri": "https://localhost:8080/",
          "height": 54
        }
      },
      "source": [
        "samples_size = testset_dogs.shape[0]\n",
        "test_x_cats = (testset_cats.reshape(samples_size, -1)) /255.\n",
        "test_x_dogs = (testset_dogs.reshape(samples_size, -1)) /255.\n",
        "testset_full = (np.concatenate((test_x_cats, test_x_dogs)))\n",
        "test_x_full = testset_full\n",
        "#print(dataset_cats[0][0])\n",
        "print(test_x_cats[0])\n",
        "\n",
        "print(test_x_full.shape)"
      ],
      "execution_count": 29,
      "outputs": [
        {
          "output_type": "stream",
          "text": [
            "[0.53333333 0.57647059 0.58823529 ... 0.56078431 0.3254902  0.29411765]\n",
            "(198, 12288)\n"
          ],
          "name": "stdout"
        }
      ]
    },
    {
      "cell_type": "code",
      "metadata": {
        "id": "8r4dWCZVz-YP",
        "outputId": "7a72f737-c8b6-4895-d6be-a9815f9e52ec",
        "colab": {
          "base_uri": "https://localhost:8080/",
          "height": 926
        }
      },
      "source": [
        "X = train_x_full\n",
        "\n",
        "Y_cats = np.ones((1,train_x_cats.shape[0]))\n",
        "Y_dogs = np.zeros((1,train_x_cats.shape[0]))\n",
        "Y_full = np.array([np.concatenate((Y_cats[0], Y_dogs[0]))]).T\n",
        "\n",
        "nn = NeuralNetwork(X, Y_full, 32, 'tanh')\n",
        "parameters = nn.get_parameters()\n",
        "print(parameters)\n",
        "Y = Y_full\n",
        "\n",
        "#print(Y_full.shape)"
      ],
      "execution_count": 36,
      "outputs": [
        {
          "output_type": "stream",
          "text": [
            "{'W1': array([[-0.00375192, -0.00079266,  0.0069811 , ..., -0.00167024,\n",
            "         0.01877226, -0.01668275],\n",
            "       [ 0.02659275, -0.0171964 , -0.00833737, ...,  0.00050015,\n",
            "         0.01164004,  0.00493056],\n",
            "       [ 0.00204444, -0.01057339,  0.00913258, ...,  0.01434511,\n",
            "         0.00849272,  0.01120601],\n",
            "       ...,\n",
            "       [-0.00143755,  0.00762541,  0.00995856, ..., -0.00092361,\n",
            "        -0.00286854,  0.00122921],\n",
            "       [-0.00633691, -0.00800978, -0.01431786, ...,  0.01055499,\n",
            "        -0.01269393, -0.00291663],\n",
            "       [-0.00476078, -0.00688102, -0.01459654, ..., -0.00244687,\n",
            "         0.02311477,  0.00522732]]), 'b1': array([[0.],\n",
            "       [0.],\n",
            "       [0.],\n",
            "       [0.],\n",
            "       [0.],\n",
            "       [0.],\n",
            "       [0.],\n",
            "       [0.],\n",
            "       [0.],\n",
            "       [0.],\n",
            "       [0.],\n",
            "       [0.],\n",
            "       [0.],\n",
            "       [0.],\n",
            "       [0.],\n",
            "       [0.],\n",
            "       [0.],\n",
            "       [0.],\n",
            "       [0.],\n",
            "       [0.],\n",
            "       [0.],\n",
            "       [0.],\n",
            "       [0.],\n",
            "       [0.],\n",
            "       [0.],\n",
            "       [0.],\n",
            "       [0.],\n",
            "       [0.],\n",
            "       [0.],\n",
            "       [0.],\n",
            "       [0.],\n",
            "       [0.]]), 'W2': array([[-0.00444328,  0.00163032, -0.02031671, -0.00613129, -0.00618883,\n",
            "         0.0156175 , -0.00184279,  0.00191502, -0.00674252, -0.00093946,\n",
            "        -0.0145161 , -0.00248583, -0.00035121,  0.00712933, -0.0059835 ,\n",
            "        -0.01175651, -0.00193329, -0.01660252,  0.00547286, -0.00709029,\n",
            "        -0.00828571,  0.0069367 ,  0.00319039, -0.01908335, -0.00426009,\n",
            "        -0.01161507,  0.01252416,  0.00410418, -0.0206083 ,  0.00174286,\n",
            "         0.01568205, -0.00869625]]), 'b2': array([[0.]]), 'mode': 'tanh'}\n"
          ],
          "name": "stdout"
        }
      ]
    },
    {
      "cell_type": "code",
      "metadata": {
        "id": "oXA9bFKAz-YT",
        "outputId": "f010f3e2-ada9-40b9-b421-5c4ef3b00c92",
        "colab": {
          "base_uri": "https://localhost:8080/",
          "height": 345
        }
      },
      "source": [
        "#test demo binary\n",
        "#X = np.array([[0, 0], [0, 1], [1, 0], [1, 1]])\n",
        "#Y = np.array([[1], [0.1], [0.5], [0]])\n",
        "#nn = NeuralNetwork(X, Y, 8, 'sigmoid')\n",
        "#parameters = nn.get_parameters()\n",
        "#print(parameters)\n",
        "#print(X.shape) #(4, 2)\n",
        "#print(Y.shape) #(4, 1)"
      ],
      "execution_count": 31,
      "outputs": [
        {
          "output_type": "stream",
          "text": [
            "{'W1': array([[ 1.36602230e-02,  8.40109244e-03],\n",
            "       [ 9.91756970e-04, -6.95139994e-03],\n",
            "       [ 1.79856612e-03,  1.06587862e-02],\n",
            "       [-1.02737378e-02,  6.12251630e-03],\n",
            "       [-5.11040687e-03,  2.55858364e-05],\n",
            "       [-1.20426637e-02, -1.31778670e-02],\n",
            "       [-6.81823562e-03, -5.70104881e-03],\n",
            "       [-5.09258080e-05, -1.41975840e-03]]), 'b1': array([[0.],\n",
            "       [0.],\n",
            "       [0.],\n",
            "       [0.],\n",
            "       [0.],\n",
            "       [0.],\n",
            "       [0.],\n",
            "       [0.]]), 'W2': array([[-0.00110836,  0.02295179, -0.00699105, -0.0032956 ,  0.00033164,\n",
            "        -0.00951283,  0.01215147, -0.00081221]]), 'b2': array([[0.]]), 'mode': 'sigmoid'}\n",
            "(4, 2)\n",
            "(4, 1)\n"
          ],
          "name": "stdout"
        }
      ]
    },
    {
      "cell_type": "code",
      "metadata": {
        "scrolled": true,
        "id": "GzNKn5f-z-YY",
        "outputId": "bbc4cf1e-94ee-4d8b-9856-236579c4664f",
        "colab": {
          "base_uri": "https://localhost:8080/",
          "height": 54
        }
      },
      "source": [
        "print(X.shape) #(4, 2)\n",
        "start_time = time.time()\n",
        "info = nn.trainer(10000, 0.01, X.T, Y.T, log=False)\n",
        "elapsed_time = time.time() - start_time\n",
        "print('elapsed_time: ', elapsed_time)"
      ],
      "execution_count": 37,
      "outputs": [
        {
          "output_type": "stream",
          "text": [
            "(200, 12288)\n",
            "elapsed_time:  209.30662417411804\n"
          ],
          "name": "stdout"
        }
      ]
    },
    {
      "cell_type": "code",
      "metadata": {
        "id": "xBXxlWyTz-Ye",
        "outputId": "553aba11-fd8e-45f9-8465-bf71069507b8",
        "colab": {
          "base_uri": "https://localhost:8080/",
          "height": 90
        }
      },
      "source": [
        "Xt_true = train_x_cats\n",
        "id_cat = 99\n",
        "print(Xt_true[id_cat:id_cat+1].shape)\n",
        "print(Xt_true[id_cat:id_cat+1])\n",
        "t = nn.test(Xt_true[id_cat:id_cat+1].T)\n",
        "print('t: ', t)\n",
        "accy =  Y[id_cat:id_cat+1] /  t[0] \n",
        "print('accy: ',(accy))\n"
      ],
      "execution_count": 38,
      "outputs": [
        {
          "output_type": "stream",
          "text": [
            "(1, 12288)\n",
            "[[0.83529412 0.85490196 0.81568627 ... 0.84705882 0.82745098 0.81176471]]\n",
            "t:  [[0.9873053]]\n",
            "accy:  [[1.01285793]]\n"
          ],
          "name": "stdout"
        }
      ]
    },
    {
      "cell_type": "code",
      "metadata": {
        "id": "QaD0yOsAz-Yi",
        "outputId": "15b9f1d6-b2ec-4de7-f2f3-dcbbc0de0080",
        "colab": {
          "base_uri": "https://localhost:8080/",
          "height": 90
        }
      },
      "source": [
        "Xt_false = train_x_dogs\n",
        "id_dog = 99\n",
        "print(Xt_false[id_dog:id_dog+1].shape)\n",
        "print(Xt_false[id_dog:id_dog+1])\n",
        "t = nn.test(Xt_false[id_dog:id_dog+1].T)\n",
        "print('t: ', t)\n",
        "accy =  Y[id_dog:id_dog+1] /  t[0] \n",
        "print('accy: ',(accy))"
      ],
      "execution_count": 39,
      "outputs": [
        {
          "output_type": "stream",
          "text": [
            "(1, 12288)\n",
            "[[0.53333333 0.54901961 0.55294118 ... 0.58039216 0.60392157 0.59607843]]\n",
            "t:  [[0.00214636]]\n",
            "accy:  [[465.90609175]]\n"
          ],
          "name": "stdout"
        }
      ]
    },
    {
      "cell_type": "code",
      "metadata": {
        "id": "1GbDeFMpz-Ym",
        "outputId": "dace3920-14c2-4e18-cedb-3c2740f0eb12",
        "colab": {
          "base_uri": "https://localhost:8080/",
          "height": 54
        }
      },
      "source": [
        "print(X[0])\n",
        "\n",
        "print(Xt_false[0])"
      ],
      "execution_count": 40,
      "outputs": [
        {
          "output_type": "stream",
          "text": [
            "[0.14117647 0.14509804 0.09019608 ... 0.17254902 0.15686275 0.1254902 ]\n",
            "[0.19215686 0.18823529 0.17254902 ... 0.49803922 0.36862745 0.2745098 ]\n"
          ],
          "name": "stdout"
        }
      ]
    },
    {
      "cell_type": "code",
      "metadata": {
        "id": "Jafcjxguz-Yt",
        "outputId": "a7a5a0ec-c203-4051-afbd-5d5cad6ddf2c",
        "colab": {
          "base_uri": "https://localhost:8080/",
          "height": 54
        }
      },
      "source": [
        "#Prueba data de entrenamiento\n",
        "cats_count = 0\n",
        "dogs_count = 0\n",
        "for xx in range(0,X.shape[0]):\n",
        "    t = nn.test(X[xx:xx+1].T)\n",
        "    #print(t[0][0], xx)\n",
        "    y_h = t[0][0]\n",
        "    if(y_h>0.8):\n",
        "        cats_count = cats_count +1\n",
        "    else:\n",
        "        dogs_count = dogs_count +1\n",
        "\n",
        "print('cats detected: ', cats_count)\n",
        "print('dogs detected: ', dogs_count)"
      ],
      "execution_count": 41,
      "outputs": [
        {
          "output_type": "stream",
          "text": [
            "cats detected:  100\n",
            "dogs detected:  100\n"
          ],
          "name": "stdout"
        }
      ]
    },
    {
      "cell_type": "code",
      "metadata": {
        "id": "RwqaCcPSz-Y0",
        "outputId": "c1e68f93-f152-42b5-c4f3-e86c43972b9f",
        "colab": {
          "base_uri": "https://localhost:8080/",
          "height": 54
        }
      },
      "source": [
        "#Prueba data de validacin \n",
        "cats_count = 0\n",
        "dogs_count = 0\n",
        "X_test = test_x_full\n",
        "for xx in range(0,X_test.shape[0]):\n",
        "    t = nn.test(X_test[xx:xx+1].T)\n",
        "    #print(t[0][0], xx)\n",
        "    y_h = t[0][0]\n",
        "    if(y_h>0.8):\n",
        "        cats_count = cats_count +1\n",
        "    else:\n",
        "        dogs_count = dogs_count +1\n",
        "\n",
        "print('cats validateds: ', cats_count)\n",
        "print('dogs validateds: ', dogs_count)"
      ],
      "execution_count": 42,
      "outputs": [
        {
          "output_type": "stream",
          "text": [
            "cats validateds:  107\n",
            "dogs validateds:  91\n"
          ],
          "name": "stdout"
        }
      ]
    },
    {
      "cell_type": "code",
      "metadata": {
        "id": "wVocrb_hz-Y8"
      },
      "source": [
        "#Xt = np.random.randn(1,65536)\n",
        "#print(Xt.shape)\n",
        "#t = nn.test(Xt.T)\n",
        "#print('t: ', t)\n",
        "#accy =  np.sum(Y[:1]) / (np.sum(t) )\n",
        "#print('accy: ',(accy))"
      ],
      "execution_count": 44,
      "outputs": []
    },
    {
      "cell_type": "code",
      "metadata": {
        "id": "ueXNhbQ9z-ZD",
        "outputId": "ec7943f0-d91e-4cae-d408-e1d8bc12bec0",
        "colab": {
          "base_uri": "https://localhost:8080/",
          "height": 690
        }
      },
      "source": [
        "#test demo binary\n",
        "print(X.shape)\n",
        "print(X[:1])\n",
        "t = nn.test(X.T)\n",
        "print('t: ', t)\n",
        "accy =  np.sum(Y) / (np.sum(t) )\n",
        "print('accy: ',(accy))"
      ],
      "execution_count": 45,
      "outputs": [
        {
          "output_type": "stream",
          "text": [
            "(200, 12288)\n",
            "[[0.14117647 0.14509804 0.09019608 ... 0.17254902 0.15686275 0.1254902 ]]\n",
            "t:  [[ 0.99358507  0.9550254   0.99393712  0.93494235  0.93296128  0.93004762\n",
            "   0.9778776   0.99578049  0.99055887  0.99158166  0.97237868  0.99593949\n",
            "   0.99449251  0.97668594  0.98124308  0.99675189  0.94511281  0.99053068\n",
            "   0.95813055  0.97073333  0.98087172  0.98062664  0.91769079  0.97454624\n",
            "   0.98897721  0.9982048   0.97867293  0.99240091  0.98491037  0.98492873\n",
            "   0.96681609  0.9858443   0.97350252  0.99848275  0.93450131  0.98837891\n",
            "   0.99541226  0.91458543  0.97496123  0.9728089   0.87710611  0.90358732\n",
            "   0.96205077  0.92764445  0.99700236  0.99244378  0.99615094  0.92098332\n",
            "   0.94902309  0.96457174  0.99004354  0.94774258  0.95018405  0.99031424\n",
            "   0.99304626  0.91402239  0.99715436  0.98021828  0.97260308  0.96136863\n",
            "   0.95288515  0.96053099  0.91796733  0.99301631  0.95885897  0.9482127\n",
            "   0.99109099  0.98729219  0.95323341  0.99523352  0.98034065  0.99469997\n",
            "   0.96074422  0.93618713  0.98444899  0.99098482  0.98889047  0.99737078\n",
            "   0.99522457  0.93027056  0.95675985  0.94037725  0.94782641  0.91577974\n",
            "   0.99132802  0.98465019  0.99494207  0.98419011  0.9943953   0.9737966\n",
            "   0.96869664  0.9040424   0.98672321  0.99319137  0.96951883  0.96949824\n",
            "   0.96912255  0.94433911  0.94822583  0.9873053  -0.01438853  0.01461319\n",
            "   0.04022936 -0.00396423  0.00153555  0.04578149 -0.03174314  0.02318626\n",
            "   0.30154291  0.05123667  0.00593832  0.01744833  0.01154229  0.07523396\n",
            "  -0.01369801  0.04541528  0.00227757 -0.03236847 -0.06152971  0.05173185\n",
            "   0.04309216  0.03835278  0.02050546  0.06849542  0.01499702 -0.01991071\n",
            "  -0.0162005   0.13287844 -0.00306599  0.04478673  0.08526216  0.09643315\n",
            "   0.031735    0.05772981  0.00758189  0.03465054 -0.00986189  0.07524488\n",
            "  -0.03611712  0.09759884  0.04291365  0.0377276   0.00884419  0.02508813\n",
            "   0.00267718  0.00223553  0.08874915  0.03735    -0.04933897  0.00880624\n",
            "   0.02945813  0.05317552  0.00270174  0.02742262 -0.04058527 -0.01405091\n",
            "   0.10555398  0.06004133 -0.0446787   0.03910903  0.06460508  0.03164913\n",
            "   0.10038769 -0.03536326 -0.01076268  0.00688492  0.02289762  0.04745871\n",
            "  -0.01442781 -0.03362636  0.02773873  0.03478619  0.02674723 -0.00565224\n",
            "   0.03495746  0.04897542  0.00143994  0.03290789  0.04699954 -0.04330434\n",
            "  -0.03188292  0.10401145  0.22529258  0.01714852  0.08754221  0.01463318\n",
            "   0.00869917  0.01394123  0.09716272  0.03294006  0.09713995  0.15729634\n",
            "   0.02860112 -0.03505715  0.0102083   0.02963224  0.08817592 -0.01941133\n",
            "  -0.0270187   0.00214636]]\n",
            "accy:  1.00101318874145\n"
          ],
          "name": "stdout"
        }
      ]
    },
    {
      "cell_type": "code",
      "metadata": {
        "id": "Ivc_ib1az-ZI",
        "outputId": "42b8814d-4698-420f-9267-25c6283e3f6b",
        "colab": {
          "base_uri": "https://localhost:8080/",
          "height": 35
        }
      },
      "source": [
        "#probar coleccion que ya no existe en el dataset\n",
        "image_test = load_images_from_folder(windows_path+'tests/',3)\n",
        "\n",
        "testset_user = np.array(image_test)\n",
        "samples_size = testset_user.shape[0]\n",
        "test_flatten = (testset_user.reshape(samples_size, -1)) /255.\n",
        "\n",
        "\n",
        "t = nn.test(test_flatten.T)\n",
        "print('t: ', t)\n"
      ],
      "execution_count": 53,
      "outputs": [
        {
          "output_type": "stream",
          "text": [
            "t:  [[0.94140395 0.4626263  0.24704403]]\n"
          ],
          "name": "stdout"
        }
      ]
    },
    {
      "cell_type": "code",
      "metadata": {
        "id": "Gx8cSuFsz-ZM",
        "outputId": "d8fc48e2-a725-4eba-a570-6ed1738a79c0",
        "colab": {
          "base_uri": "https://localhost:8080/",
          "height": 54
        }
      },
      "source": [
        "#probar coleccion que ya no existe en el dataset\n",
        "images = []\n",
        "images.append(parse_file(windows_path+'/tests/perro-carlos.jpg'))\n",
        "\n",
        "image_test = images\n",
        "testset_user = np.array(image_test)\n",
        "samples_size = testset_user.shape[0]\n",
        "test_flatten = (testset_user.reshape(samples_size, -1)) /255.\n",
        "\n",
        "\n",
        "t = nn.test(test_flatten.T)\n",
        "if t>0.8:\n",
        "    print('Its a cat!!')\n",
        "else:\n",
        "    print('Its a dog!!')\n",
        "print('t: ', t)"
      ],
      "execution_count": 55,
      "outputs": [
        {
          "output_type": "stream",
          "text": [
            "Its a dog!!\n",
            "t:  [[0.38619416]]\n"
          ],
          "name": "stdout"
        }
      ]
    },
    {
      "cell_type": "code",
      "metadata": {
        "id": "Ku1PR5Hkz-ZT"
      },
      "source": [
        ""
      ],
      "execution_count": null,
      "outputs": []
    },
    {
      "cell_type": "code",
      "metadata": {
        "id": "BqotNYvPz-ZY"
      },
      "source": [
        ""
      ],
      "execution_count": null,
      "outputs": []
    }
  ]
}